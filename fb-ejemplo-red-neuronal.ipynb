{
 "cells": [
  {
   "cell_type": "markdown",
   "id": "ff307e05",
   "metadata": {
    "papermill": {
     "duration": 0.008958,
     "end_time": "2022-03-04T11:53:16.497492",
     "exception": false,
     "start_time": "2022-03-04T11:53:16.488534",
     "status": "completed"
    },
    "tags": []
   },
   "source": [
    "# Ejemplo de red neuronal\n",
    "\n",
    "Original https://blog.facialix.com/tutorial-desarrolla-tu-primera-neurona-artificial-sin-usar-librerias-externas/\n",
    "\n",
    "Las redes neuronales son como los algoritmos: una **caja negra** en la cual hay una serie de entradas, la caja y una serie de salidas.\n",
    "\n",
    "![](https://blog.facialix.com/wp-content/uploads/2019/08/diagrama_red_neuronal.png)\n",
    "\n",
    "Pero hay algo especial en esa caja que representa las redes neuronales:** una serie de controles** analógicos, algunos girando a la izquierda y otros girando a la derecha de tal modo que su giro afecta las salidas.\n",
    "\n",
    "En el ejemplo, supongamos que tenemos las siguientes entradas y salidas deseadas:\n",
    "\n",
    "![](https://blog.facialix.com/wp-content/uploads/2019/08/tabla-salidas.png)\n",
    "\n",
    "Significa que si entran los números 4, 5, 7, 8, (ejemplo 1), debe salir 18 y 32. Luego hay que ajustar esos controles analógicos (moviéndoos en favor o en contra de las manecillas del reloj) hasta que se obtenga esa salida.\n",
    "\n",
    "![](https://blog.facialix.com/wp-content/uploads/2019/08/diagrama-pesos-red-neuronal.png)\n",
    "\n",
    "Una vez hecho eso, se prueba con las entradas 7, 2, 3, 6 y debe salir 21 y 54. En caso que no funcione con el segundo juego de entradas, se procede a girar de nuevo esos controles y volver a empezar (si, desde el inicio).\n",
    "\n",
    "También te puede interesar:\n",
    "\n",
    "Así hasta que ajuste con todos los ejemplos. En el caso de la tabla, con los tres conjuntos de entradas que deben dar con las salidas deseadas.  En otras palabras, los 6 controles analógicos deben tener un giro tal, que hace cumplir toda la tabla (los tres ejemplos). El objetivo es dar con esos giros en particular.\n",
    "\n",
    "![](https://blog.facialix.com/wp-content/uploads/2019/08/salidas-esperadas.png)\n",
    "\n",
    "¿Y cómo dar con esos giros? Al iniciar, esos controles están girados al azar y poco a poco se van ajustando. Hay un procedimiento matemático que colabora mucho en este caso para así no ajustar a ciegas. Hay que aclarar que la caja tiene 6 controles analógicos, pueden haber muchos más en otras implementaciones.\n",
    "\n",
    "**El “Hola Mundo” de las redes neuronales: El perceptrón simple**\n",
    "\n",
    "Para dar inicio con las redes neuronales se parte de lo más simple: una neurona. Se le conoce como perceptrón simple. Se presenta así:\n",
    "\n",
    "![](https://blog.facialix.com/wp-content/uploads/2019/08/neurona-simple.png)\n",
    "\n",
    "Dos entradas, una salida y tres controles analógicos. ¿Para qué sirve? Es una demostración que un algoritmo puede aprender la tabla del AND y del OR. Esta es la tabla del AND Valor.\n",
    "\n",
    "![](https://blog.facialix.com/wp-content/uploads/2019/08/tabla-and-or.png)\n",
    "\n",
    "Vamos a hacer que un perceptrón aprenda esa tabla, es decir, que si se ingresa en las entradas Verdadero y Falso, el algoritmo aprenda que debe mostrar en la salida el valor de Falso y así con toda la tabla.  El primer paso es volver cuantitativa esa tabla:\n",
    "\n",
    "![](https://blog.facialix.com/wp-content/uploads/2019/08/tabla-and-or-cuantitativa.png)\n",
    "\n",
    "Los datos de entrada y salida deben ser cuantitativos porque en el interior de esa caja hay fórmulas y procedimientos matemáticos. Luego para este ejemplo, 1 representa verdadero y 0 representa falso. ¿Y ahora? Este es la caja por dentro.\n",
    "\n",
    "![](https://blog.facialix.com/wp-content/uploads/2019/08/red_neuronal-entradas.png)\n",
    "\n",
    "Un control analógico por cada entrada y se le adiciona una entrada interna que se llama umbral y tiene el valor de 1 con su propio control analógico. Esos controles analógicos se llaman pesos. Ahora se le ponen nombres a cada parte.\n",
    "\n",
    "![](https://blog.facialix.com/wp-content/uploads/2019/08/funcion-activacion.png)\n",
    "\n",
    "E1 y E2 son las entradasP1, P2 son los pesos de las entradasU es el peso del umbralS es la salidaf( ) es la función que le da el valor a SLuego la salida se calcula así:\n",
    "\n",
    "S = f ( E1 * P1 + E2 * P2 + 1 * U )\n",
    "\n",
    "Para entenderlo mejor, vamos a darle unos valores:\n",
    "\n",
    "* E1 = 1 (verdadero)\n",
    "* E2 = 1 (verdadero)\n",
    "* P1 = 0.9812 (un valor real al azar)\n",
    "* P2 = 3.7193 (un valor real al azar)\n",
    "* U = 2.1415 (un valor real al azar)\n",
    "\n",
    "Entonces la salida sería:\n",
    "\n",
    "* S = f ( E1 * P1 + E2 * P2 + 1 * P3 )\n",
    "* S = f ( 1 * 0.9812 + 1 * 3.7193 + 1 * 2.1415 )\n",
    "* S = f ( 6.842 )\n",
    "\n",
    "¿Y que es f()? una función que podría implementarse así:\n",
    "Continuando con el ejemplo entonces\n",
    "\n",
    "* S = f ( 6.842)\n",
    "* S = 1\n",
    "\n",
    "Y ese es el valor esperado. Los pesos funcionan para esas entradas.\n",
    "\n",
    "¿Y que es f()? una función que podría implementarse así:\n",
    "\n",
    "![](https://blog.facialix.com/wp-content/uploads/2019/08/formula-funcion-de-activacion.png)\n",
    "\n",
    "Continuando con el ejemplo entonces\n",
    "\n",
    "* S = f ( 6.842 )\n",
    "* S = 1\n",
    "\n",
    "Y ese es el valor esperado. Los pesos funcionan para esas entradas.\n",
    "\n",
    "![](https://blog.facialix.com/wp-content/uploads/2019/08/prueba-red-neural.png)\n",
    "\n",
    "¿Funcionarán esos pesos para las otras entradas? ¡Probemos!\n",
    "\n",
    "* E1 = 1 (verdadero)\n",
    "* E2 = 0 (falso)\n",
    "* S = f ( E1 * P1 + E2 * P2 + 1 * P3 )\n",
    "* S = f ( 1 * 0.9812 + 0 * 3.7193 + 1 * 2.1415 )\n",
    "* S = f ( 3.1227)\n",
    "* S = 1\n",
    "\n",
    "No, no funcionó, debería haber dado cero\n",
    "\n",
    "![](https://blog.facialix.com/wp-content/uploads/2019/08/prueba-fallida-red-neuronal.png)\n",
    "\n",
    "Y entonces? Habrá que utilizar otros valores para los pesos. Una forma es darle otros valores al azar. Ejecutar de nuevo el proceso, probar con todas las entradas hasta que finalmente de las salidas esperadas.\n",
    "\n",
    "# Ahora viene el codigo en Python:\n",
    "\n",
    "Primero necesitamos importar la libreria random, esto es para generar numeros aleatorios.Ademas añadimos en una variable de tipo array los valores de la tabla and, y almacenamos en otro array numeros los pesos aleatorios."
   ]
  },
  {
   "cell_type": "code",
   "execution_count": 1,
   "id": "86080029",
   "metadata": {
    "_cell_guid": "b1076dfc-b9ad-4769-8c92-a6c4dae69d19",
    "_uuid": "8f2839f25d086af736a60e9eeb907d3b93b6e0e5",
    "execution": {
     "iopub.execute_input": "2022-03-04T11:53:16.521482Z",
     "iopub.status.busy": "2022-03-04T11:53:16.519821Z",
     "iopub.status.idle": "2022-03-04T11:53:16.532587Z",
     "shell.execute_reply": "2022-03-04T11:53:16.533080Z",
     "shell.execute_reply.started": "2022-03-04T11:44:27.949667Z"
    },
    "papermill": {
     "duration": 0.025556,
     "end_time": "2022-03-04T11:53:16.533359",
     "exception": false,
     "start_time": "2022-03-04T11:53:16.507803",
     "status": "completed"
    },
    "tags": []
   },
   "outputs": [
    {
     "name": "stdout",
     "output_type": "stream",
     "text": [
      "datos: [[1, 1, 1], [1, 0, 0], [0, 1, 0], [0, 0, 0]]\n",
      "pesos: [-0.12438094848017545, 0.5728266396082338, 0.3604683536466762]\n"
     ]
    }
   ],
   "source": [
    "import random   \n",
    "\n",
    "datos =[[1,1,1],[1,0,0],[0,1,0],[0,0,0]] \n",
    "pesos = [random.uniform(-1,1),random.uniform(-1,1),random.uniform(-1,1)] \n",
    "aprendiendo = True \n",
    "salidaEntera = 0 \n",
    "iteracion=0 \n",
    "tasaAprende = 0.3\n",
    "iteraciones = 0\n",
    "\n",
    "print(\"datos:\",datos)\n",
    "print(\"pesos:\",pesos) "
   ]
  },
  {
   "cell_type": "markdown",
   "id": "a02354db",
   "metadata": {
    "papermill": {
     "duration": 0.008038,
     "end_time": "2022-03-04T11:53:16.550832",
     "exception": false,
     "start_time": "2022-03-04T11:53:16.542794",
     "status": "completed"
    },
    "tags": []
   },
   "source": [
    "Añadiremos un ciclo while que se repetira siempre y cuando la red neural siga aprendiendo, en este ciclo se ejecutara la funcion de activacion, usando los valores de los pesos generados aleatoriamente y los datos de la tabla AND.\n",
    "\n",
    "Para acelerar el aprendizaje, calcularemos el error estimado en cada iteracion, con ello en cada nueva vuelta los pesos se iran ajustando hasta el valor correcto, si el porcentaje de error llega a cero no sera necesario realizar ajustes y de este modo saldremos del ciclo while con los pesos correctos para ejecutar la red neural."
   ]
  },
  {
   "cell_type": "code",
   "execution_count": 2,
   "id": "09c19abf",
   "metadata": {
    "execution": {
     "iopub.execute_input": "2022-03-04T11:53:16.570424Z",
     "iopub.status.busy": "2022-03-04T11:53:16.569812Z",
     "iopub.status.idle": "2022-03-04T11:53:16.579789Z",
     "shell.execute_reply": "2022-03-04T11:53:16.580221Z",
     "shell.execute_reply.started": "2022-03-04T11:44:27.963735Z"
    },
    "papermill": {
     "duration": 0.021247,
     "end_time": "2022-03-04T11:53:16.580403",
     "exception": false,
     "start_time": "2022-03-04T11:53:16.559156",
     "status": "completed"
    },
    "tags": []
   },
   "outputs": [
    {
     "name": "stdout",
     "output_type": "stream",
     "text": [
      "1\n",
      "1\n",
      "1\n",
      "0\n",
      "0\n",
      "0\n",
      "1\n",
      "0\n",
      "0\n",
      "1\n",
      "1\n",
      "0\n",
      "0\n",
      "0\n",
      "1\n",
      "0\n",
      "0\n",
      "1\n",
      "1\n",
      "0\n",
      "0\n",
      "0\n",
      "1\n",
      "0\n",
      "0\n",
      "1\n",
      "0\n",
      "0\n",
      "1\n",
      "0\n",
      "0\n",
      "0\n"
     ]
    }
   ],
   "source": [
    "while(aprendiendo==True):\n",
    "    iteracion=iteracion + 1\n",
    "    aprendiendo=False\n",
    "    for cont in range(0,4):\n",
    "        salidaReal =  (datos[cont][0] * pesos[0] + datos[cont][1] * pesos[1] + pesos[2])\n",
    "        #print(\"salida real: \", datos[cont][0], \" * \", pesos[0], \" + \", datos[cont][1], \" * \", pesos[1], \" + \", pesos[2])\n",
    "        #print(\"salida real: \",salidaReal)\n",
    "        if salidaReal > 0:\n",
    "            salidaEntera = 1\n",
    "        else:\n",
    "            salidaEntera = 0\n",
    "        salidaEntera = int(salidaEntera)\n",
    "        print(salidaEntera)\n",
    "        error =  int(datos[cont][2] - salidaEntera)\n",
    "        if (error != 0):\n",
    "            pesos[0] += tasaAprende * error * datos[cont][0]\n",
    "            pesos[1] += tasaAprende * error * datos[cont][1]\n",
    "            pesos[2] += tasaAprende * error *1\n",
    "            aprendiendo = True\n",
    "\n",
    "    if aprendiendo == False:\n",
    "        break"
   ]
  },
  {
   "cell_type": "markdown",
   "id": "99dd370f",
   "metadata": {
    "papermill": {
     "duration": 0.008136,
     "end_time": "2022-03-04T11:53:16.597311",
     "exception": false,
     "start_time": "2022-03-04T11:53:16.589175",
     "status": "completed"
    },
    "tags": []
   },
   "source": [
    "Una vez teniendo los pesos correctos, podemos imprimirlos en pantalla para visualizar su valor y almacenarlos, ademas de que también podemos mostrar la cantidad de iteraciones que le costo a la neurona aprender."
   ]
  },
  {
   "cell_type": "code",
   "execution_count": 3,
   "id": "75418118",
   "metadata": {
    "execution": {
     "iopub.execute_input": "2022-03-04T11:53:16.617201Z",
     "iopub.status.busy": "2022-03-04T11:53:16.616598Z",
     "iopub.status.idle": "2022-03-04T11:53:16.621612Z",
     "shell.execute_reply": "2022-03-04T11:53:16.622082Z",
     "shell.execute_reply.started": "2022-03-04T11:44:27.984217Z"
    },
    "papermill": {
     "duration": 0.016437,
     "end_time": "2022-03-04T11:53:16.622245",
     "exception": false,
     "start_time": "2022-03-04T11:53:16.605808",
     "status": "completed"
    },
    "tags": []
   },
   "outputs": [
    {
     "name": "stdout",
     "output_type": "stream",
     "text": [
      "iteraciones:  8\n",
      "peso 1:  0.4756190515198245\n",
      "peso 2:  0.5728266396082338\n",
      "peso 3:  -0.8395316463533238\n"
     ]
    }
   ],
   "source": [
    "print(\"iteraciones: \" , iteracion) \n",
    "print(\"peso 1: \", pesos[0]) \n",
    "print(\"peso 2: \", pesos[1]) \n",
    "print(\"peso 3: \", pesos[2])"
   ]
  },
  {
   "cell_type": "markdown",
   "id": "3917a110",
   "metadata": {
    "papermill": {
     "duration": 0.008377,
     "end_time": "2022-03-04T11:53:16.639975",
     "exception": false,
     "start_time": "2022-03-04T11:53:16.631598",
     "status": "completed"
    },
    "tags": []
   },
   "source": [
    "Ademas, podemos realizar una comprobación, ejecutando los valores en la red neuronal para verificar que realmente aprendió a resolver la tabla AND, el codigo es el siguiente:"
   ]
  },
  {
   "cell_type": "code",
   "execution_count": 4,
   "id": "420cbdb7",
   "metadata": {
    "execution": {
     "iopub.execute_input": "2022-03-04T11:53:16.660474Z",
     "iopub.status.busy": "2022-03-04T11:53:16.659842Z",
     "iopub.status.idle": "2022-03-04T11:53:16.674332Z",
     "shell.execute_reply": "2022-03-04T11:53:16.673820Z",
     "shell.execute_reply.started": "2022-03-04T11:44:27.995151Z"
    },
    "papermill": {
     "duration": 0.025892,
     "end_time": "2022-03-04T11:53:16.674492",
     "exception": false,
     "start_time": "2022-03-04T11:53:16.648600",
     "status": "completed"
    },
    "tags": []
   },
   "outputs": [
    {
     "name": "stdout",
     "output_type": "stream",
     "text": [
      "formula: ( datos[cont][0]  *  pesos[0] + datos[cont][1] * pesos[1] + pesos[2])\n",
      "formula: ( 1  *  0.4756190515198245  +  1  *  0.5728266396082338  +  -0.8395316463533238  )\n",
      "0.2089140447747344\n",
      "formula: ( datos[cont][0]  *  pesos[0] + datos[cont][1] * pesos[1] + pesos[2])\n",
      "formula: ( 1  *  0.4756190515198245  +  0  *  0.5728266396082338  +  -0.8395316463533238  )\n",
      "-0.3639125948334993\n",
      "entradas:  1  y  0  =  0 perceptron:  0\n",
      "formula: ( datos[cont][0]  *  pesos[0] + datos[cont][1] * pesos[1] + pesos[2])\n",
      "formula: ( 0  *  0.4756190515198245  +  1  *  0.5728266396082338  +  -0.8395316463533238  )\n",
      "-0.26670500674509\n",
      "entradas:  0  y  1  =  0 perceptron:  0\n",
      "formula: ( datos[cont][0]  *  pesos[0] + datos[cont][1] * pesos[1] + pesos[2])\n",
      "formula: ( 0  *  0.4756190515198245  +  0  *  0.5728266396082338  +  -0.8395316463533238  )\n",
      "-0.8395316463533238\n",
      "entradas:  0  y  0  =  0 perceptron:  0\n"
     ]
    }
   ],
   "source": [
    "for cont in range (0,4):    \n",
    "    salidaReal= datos[cont][0] * pesos[0] +datos[cont][1] * pesos[1] + pesos[2]    \n",
    "    print(\"formula: ( datos[cont][0]  *  pesos[0] + datos[cont][1] * pesos[1] + pesos[2])\")        \n",
    "    print(\"formula: (\", datos[cont][0] , \" * \", pesos[0], \" + \", datos[cont][1], \" * \", pesos[1], \" + \", pesos[2], \" )\")    \n",
    "    print(salidaReal)    \n",
    "    if salidaReal > 0 :        \n",
    "        salidaEntera = 1    \n",
    "    else:        \n",
    "        salidaEntera = 0   \n",
    "        print(\"entradas: \", datos[cont][0] , \" y \" ,datos[cont][1] , \" = \" , datos[cont][2] , \"perceptron: \" , salidaEntera)"
   ]
  },
  {
   "cell_type": "markdown",
   "id": "d4650cac",
   "metadata": {
    "papermill": {
     "duration": 0.008858,
     "end_time": "2022-03-04T11:53:16.692610",
     "exception": false,
     "start_time": "2022-03-04T11:53:16.683752",
     "status": "completed"
    },
    "tags": []
   },
   "source": [
    "Ahora, verificaremos el resultado de nuestro código, ejecutando:\n",
    "\n",
    "![](https://blog.facialix.com/wp-content/uploads/2019/08/resultados-red-neural.png)"
   ]
  },
  {
   "cell_type": "markdown",
   "id": "b0db475b",
   "metadata": {
    "papermill": {
     "duration": 0.00886,
     "end_time": "2022-03-04T11:53:16.710642",
     "exception": false,
     "start_time": "2022-03-04T11:53:16.701782",
     "status": "completed"
    },
    "tags": []
   },
   "source": [
    "**Recomendaciones finales**\n",
    "\n",
    "En esta prueba observamos que la neurona tardo 10 iteraciones en encontrar los pesos correctos, los cuales son visibles en pantalla, ademas de que realizamos una comprobacion de la tabla AND, donde mostramos los valores correctos contra los valores que la red neuronal obtuvo, sacando los valores correctos.\n",
    "\n",
    "Como aviso, es normal que aveces tarde mas o menos iteraciones ya que estamos usando numeros aleatorios para calcular los pesos.\n",
    "\n",
    "Bien, hemos aprendido como funciona una neurona, como aprende y como programar una red neuronal simple o perceptron para que aprendiera a resolver la tabla AND.\n",
    "\n",
    "Para aprender mas, puedes modificar los valores de la tabla AND por los valores de la tabla OR y verificar si tambien es capaz de aprender a como solucionarla, e incluso puedes modificar ciertas partes de codigo para aumentar la velocidad de aprendizaje.\n",
    "\n",
    "Puedes descargar el codigo fuente de este tutorial en el repositorio de github. https://github.com/julio16101/aprende-Python/blob/master/Practica%20red%20neuronal%20tabla%20AND.py"
   ]
  },
  {
   "cell_type": "code",
   "execution_count": 5,
   "id": "cafd2370",
   "metadata": {
    "execution": {
     "iopub.execute_input": "2022-03-04T11:53:16.742970Z",
     "iopub.status.busy": "2022-03-04T11:53:16.742048Z",
     "iopub.status.idle": "2022-03-04T11:53:16.779322Z",
     "shell.execute_reply": "2022-03-04T11:53:16.779868Z",
     "shell.execute_reply.started": "2022-03-04T11:48:53.707348Z"
    },
    "papermill": {
     "duration": 0.06026,
     "end_time": "2022-03-04T11:53:16.780035",
     "exception": false,
     "start_time": "2022-03-04T11:53:16.719775",
     "status": "completed"
    },
    "tags": []
   },
   "outputs": [
    {
     "name": "stdout",
     "output_type": "stream",
     "text": [
      "salida real:  1  *  0.33213338918350876  +  1  *  -0.5179328021242833  +  -0.9900368196053544\n",
      "salida real:  -1.175836232546129\n",
      "0\n",
      "salida real:  1  *  0.6321333891835088  +  0  *  -0.2179328021242833  +  -0.6900368196053543\n",
      "salida real:  -0.057903430421845536\n",
      "0\n",
      "salida real:  0  *  0.6321333891835088  +  1  *  -0.2179328021242833  +  -0.6900368196053543\n",
      "salida real:  -0.9079696217296376\n",
      "0\n",
      "salida real:  0  *  0.6321333891835088  +  0  *  -0.2179328021242833  +  -0.6900368196053543\n",
      "salida real:  -0.6900368196053543\n",
      "0\n",
      "salida real:  1  *  0.6321333891835088  +  1  *  -0.2179328021242833  +  -0.6900368196053543\n",
      "salida real:  -0.2758362325461288\n",
      "0\n",
      "salida real:  1  *  0.9321333891835089  +  0  *  0.0820671978757167  +  -0.39003681960535436\n",
      "salida real:  0.5420965695781546\n",
      "1\n",
      "salida real:  0  *  0.6321333891835088  +  1  *  0.0820671978757167  +  -0.6900368196053543\n",
      "salida real:  -0.6079696217296376\n",
      "0\n",
      "salida real:  0  *  0.6321333891835088  +  0  *  0.0820671978757167  +  -0.6900368196053543\n",
      "salida real:  -0.6900368196053543\n",
      "0\n",
      "salida real:  1  *  0.6321333891835088  +  1  *  0.0820671978757167  +  -0.6900368196053543\n",
      "salida real:  0.024163767453871166\n",
      "1\n",
      "salida real:  1  *  0.6321333891835088  +  0  *  0.0820671978757167  +  -0.6900368196053543\n",
      "salida real:  -0.057903430421845536\n",
      "0\n",
      "salida real:  0  *  0.6321333891835088  +  1  *  0.0820671978757167  +  -0.6900368196053543\n",
      "salida real:  -0.6079696217296376\n",
      "0\n",
      "salida real:  0  *  0.6321333891835088  +  0  *  0.0820671978757167  +  -0.6900368196053543\n",
      "salida real:  -0.6900368196053543\n",
      "0\n",
      "iteraciones:  3\n",
      "peso 1:  0.6321333891835088\n",
      "peso 2:  0.0820671978757167\n",
      "peso 3:  -0.6900368196053543\n",
      "formula: ( datos[cont][0]  *  pesos[0] + datos[cont][1] * pesos[1] + pesos[2])\n",
      "formula: ( 1  *  0.6321333891835088  +  1  *  0.0820671978757167  +  -0.6900368196053543  )\n",
      "0.024163767453871166\n",
      "entradas:  1  y  1  =  1 perceptron:  1\n",
      "12\n",
      "formula: ( datos[cont][0]  *  pesos[0] + datos[cont][1] * pesos[1] + pesos[2])\n",
      "formula: ( 1  *  0.6321333891835088  +  0  *  0.0820671978757167  +  -0.6900368196053543  )\n",
      "-0.057903430421845536\n",
      "entradas:  1  y  0  =  0 perceptron:  0\n",
      "12\n",
      "formula: ( datos[cont][0]  *  pesos[0] + datos[cont][1] * pesos[1] + pesos[2])\n",
      "formula: ( 0  *  0.6321333891835088  +  1  *  0.0820671978757167  +  -0.6900368196053543  )\n",
      "-0.6079696217296376\n",
      "entradas:  0  y  1  =  0 perceptron:  0\n",
      "12\n",
      "formula: ( datos[cont][0]  *  pesos[0] + datos[cont][1] * pesos[1] + pesos[2])\n",
      "formula: ( 0  *  0.6321333891835088  +  0  *  0.0820671978757167  +  -0.6900368196053543  )\n",
      "-0.6900368196053543\n",
      "entradas:  0  y  0  =  0 perceptron:  0\n",
      "12\n"
     ]
    }
   ],
   "source": [
    "import random   \n",
    "i=0\n",
    "datos =[[1,1,1],[1,0,0],[0,1,0],[0,0,0]]\n",
    "pesos = [random.uniform(-1,1),random.uniform(-1,1),random.uniform(-1,1)]\n",
    "aprendiendo = True\n",
    "salidaEntera = 0\n",
    "iteracion=0\n",
    "tasaAprende = 0.3\n",
    "iteraciones = 0\n",
    "while(aprendiendo==True):\n",
    "    iteracion=iteracion + 1\n",
    "    aprendiendo=False\n",
    "    for cont in range(0,4):\n",
    "        salidaReal =  (datos[cont][0] * pesos[0] + datos[cont][1] * pesos[1] + pesos[2])\n",
    "        print(\"salida real: \", datos[cont][0], \" * \", pesos[0], \" + \", datos[cont][1], \" * \", pesos[1], \" + \", pesos[2])\n",
    "        print(\"salida real: \",salidaReal)\n",
    "        i=i+1\n",
    "        if salidaReal > 0:\n",
    "            salidaEntera = 1\n",
    "        else:\n",
    "            salidaEntera = 0\n",
    "        salidaEntera = int(salidaEntera)\n",
    "        print(salidaEntera)\n",
    "        error =  int(datos[cont][2] - salidaEntera)\n",
    "        if (error != 0):\n",
    "            pesos[0] += tasaAprende * error * datos[cont][0]\n",
    "            pesos[1] += tasaAprende * error * datos[cont][1]\n",
    "            pesos[2] += tasaAprende * error *1\n",
    "            aprendiendo = True\n",
    "\n",
    "\n",
    "    if aprendiendo == False:\n",
    "        break\n",
    "\n",
    "print(\"iteraciones: \" , iteracion)\n",
    "print(\"peso 1: \", pesos[0])\n",
    "print(\"peso 2: \", pesos[1])\n",
    "print(\"peso 3: \", pesos[2])\n",
    "\n",
    "for cont in range (0,4):\n",
    "    salidaReal= datos[cont][0] * pesos[0] + datos[cont][1] * pesos[1] + pesos[2]\n",
    "    print(\"formula: ( datos[cont][0]  *  pesos[0] + datos[cont][1] * pesos[1] + pesos[2])\")\n",
    "    print(\"formula: (\", datos[cont][0] , \" * \", pesos[0], \" + \", datos[cont][1], \" * \", pesos[1], \" + \", pesos[2], \" )\")\n",
    "    print(salidaReal)\n",
    "    if salidaReal > 0 :\n",
    "        salidaEntera = 1\n",
    "    else:\n",
    "        salidaEntera = 0\n",
    "    print(\"entradas: \", datos[cont][0] , \" y \" ,datos[cont][1] , \" = \" , datos[cont][2] , \"perceptron: \" , salidaEntera)\n",
    "    print(i)"
   ]
  }
 ],
 "metadata": {
  "kernelspec": {
   "display_name": "Python 3",
   "language": "python",
   "name": "python3"
  },
  "language_info": {
   "codemirror_mode": {
    "name": "ipython",
    "version": 3
   },
   "file_extension": ".py",
   "mimetype": "text/x-python",
   "name": "python",
   "nbconvert_exporter": "python",
   "pygments_lexer": "ipython3",
   "version": "3.7.12"
  },
  "papermill": {
   "default_parameters": {},
   "duration": 9.686915,
   "end_time": "2022-03-04T11:53:17.399330",
   "environment_variables": {},
   "exception": null,
   "input_path": "__notebook__.ipynb",
   "output_path": "__notebook__.ipynb",
   "parameters": {},
   "start_time": "2022-03-04T11:53:07.712415",
   "version": "2.3.3"
  }
 },
 "nbformat": 4,
 "nbformat_minor": 5
}
